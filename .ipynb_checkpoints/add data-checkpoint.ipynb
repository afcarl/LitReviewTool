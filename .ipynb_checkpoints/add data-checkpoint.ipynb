{
 "cells": [
  {
   "cell_type": "code",
   "execution_count": 5,
   "metadata": {},
   "outputs": [],
   "source": [
    "import psycopg2\n",
    "from __future__ import print_function\n",
    "from ipywidgets import interact, interactive, fixed, interact_manual\n",
    "import ipywidgets as widgets\n",
    "import make_config\n",
    "import NCBISearch\n",
    "import NCBIFetch\n",
    "# from Bio import Entrez"
   ]
  },
  {
   "cell_type": "code",
   "execution_count": null,
   "metadata": {},
   "outputs": [],
   "source": [
    "#Define our connection string\n",
    "conn_string = \"host='localhost' dbname='lit_review' user='postgres' password='gres'\"\n",
    " \n",
    "# print the connection string we will use to connect\n",
    "print(\"Connecting to database\\n\" + conn_string)\n",
    " \n",
    "# get a connection, if a connect cannot be made an exception will be raised here\n",
    "conn = psycopg2.connect(conn_string)\n",
    " \n",
    "# conn.cursor will return a cursor object, you can use this cursor to perform queries\n",
    "cursor = conn.cursor()\n",
    "cursor.execute(\"SELECT table_name FROM information_schema.tables\")\n",
    "# cursor.fetchall()"
   ]
  },
  {
   "cell_type": "code",
   "execution_count": null,
   "metadata": {},
   "outputs": [],
   "source": [
    "table_names = [ 'DataPull_ID','DataPull_Detail','DataPull_Journal','DataPull_Author','DataPull_Text','DataPull_Title','DataPull_Keyword']"
   ]
  },
  {
   "cell_type": "code",
   "execution_count": null,
   "metadata": {},
   "outputs": [],
   "source": []
  },
  {
   "cell_type": "code",
   "execution_count": 6,
   "metadata": {},
   "outputs": [],
   "source": [
    "db_selector = widgets.Select(\n",
    "    options=['Pubmed', 'Pubmed Central (PMC)'],\n",
    "    value='Pubmed',\n",
    "    # rows=10,\n",
    "    description='Database:',\n",
    "    disabled=False\n",
    ")\n",
    "\n",
    "query_entry = widgets.Text(\n",
    "    value='syndromic surveillance',\n",
    "    placeholder = 'search term',\n",
    "    description='Search Terms (separate by AND/OR):',\n",
    "    disabled=False,\n",
    "    style = {'description_width': 'initial','flex-grow': 1}\n",
    ")\n",
    "# display(db_selector)\n",
    "# display(query_entry)"
   ]
  },
  {
   "cell_type": "code",
   "execution_count": 7,
   "metadata": {},
   "outputs": [],
   "source": [
    "input_db = db_selector.value\n",
    "input_term = query_entry.value"
   ]
  },
  {
   "cell_type": "code",
   "execution_count": 8,
   "metadata": {},
   "outputs": [],
   "source": [
    "config = make_config.main(input_term,input_db)\n",
    "email_id = config['email']\n",
    "term = config['query']\n",
    "db = config['db']"
   ]
  },
  {
   "cell_type": "code",
   "execution_count": 9,
   "metadata": {},
   "outputs": [
    {
     "data": {
      "text/plain": [
       "{'db': 'pubmed',\n",
       " 'email': 's.rand525@gmail.com',\n",
       " 'query': 'SYNDROMIC+SURVEILLANCE',\n",
       " 'query_history': []}"
      ]
     },
     "execution_count": 9,
     "metadata": {},
     "output_type": "execute_result"
    }
   ],
   "source": [
    "config"
   ]
  },
  {
   "cell_type": "code",
   "execution_count": 10,
   "metadata": {},
   "outputs": [],
   "source": []
  },
  {
   "cell_type": "code",
   "execution_count": 13,
   "metadata": {},
   "outputs": [],
   "source": [
    "search = NCBISearch.ncbi_search(term,db,email_id)"
   ]
  },
  {
   "cell_type": "code",
   "execution_count": null,
   "metadata": {},
   "outputs": [],
   "source": [
    "import test"
   ]
  },
  {
   "cell_type": "code",
   "execution_count": null,
   "metadata": {},
   "outputs": [],
   "source": [
    "NCBISearch."
   ]
  }
 ],
 "metadata": {
  "kernelspec": {
   "display_name": "Python 3",
   "language": "python",
   "name": "python3"
  },
  "language_info": {
   "codemirror_mode": {
    "name": "ipython",
    "version": 3
   },
   "file_extension": ".py",
   "mimetype": "text/x-python",
   "name": "python",
   "nbconvert_exporter": "python",
   "pygments_lexer": "ipython3",
   "version": "3.6.3"
  }
 },
 "nbformat": 4,
 "nbformat_minor": 2
}
