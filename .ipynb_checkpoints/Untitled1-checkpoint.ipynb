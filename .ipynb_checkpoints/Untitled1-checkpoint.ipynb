{
 "cells": [
  {
   "cell_type": "code",
   "execution_count": null,
   "metadata": {},
   "outputs": [],
   "source": []
  },
  {
   "cell_type": "code",
   "execution_count": null,
   "metadata": {},
   "outputs": [],
   "source": []
  },
  {
   "cell_type": "code",
   "execution_count": null,
   "metadata": {},
   "outputs": [],
   "source": []
  },
  {
   "cell_type": "code",
   "execution_count": 57,
   "metadata": {},
   "outputs": [],
   "source": [
    "from Bio import Entrez\n",
    "import pandas as pd\n",
    "from pandas import DataFrame\n",
    "import itertools\n",
    "import codecs\n",
    "import io\n",
    "import sys\n",
    "import encodings\n",
    "import time\n",
    "import os\n",
    "# import pyodbc\n",
    "import math\n",
    "from itertools import chain\n",
    "from IPython.display import HTML\n",
    "from datetime import date\n",
    "import datetime\n",
    "import pickle\n",
    "import types\n",
    "import lxml.html\n",
    "from operator import itemgetter\n",
    "from itertools import groupby\n",
    "import json\n",
    "import random\n",
    "import string\n",
    "# import helper\n",
    "import importlib\n",
    "import ssl\n",
    "ssl._create_default_https_context = ssl._create_unverified_context"
   ]
  },
  {
   "cell_type": "code",
   "execution_count": 58,
   "metadata": {},
   "outputs": [
    {
     "data": {
      "text/plain": [
       "<module 'new_helper' from '/Users/sophierand/Desktop/Github/LitReviewToolNEW/new_helper.py'>"
      ]
     },
     "execution_count": 58,
     "metadata": {},
     "output_type": "execute_result"
    }
   ],
   "source": [
    "importlib.reload(new_helper)"
   ]
  },
  {
   "cell_type": "code",
   "execution_count": 54,
   "metadata": {},
   "outputs": [],
   "source": [
    "class ncbi_search:\n",
    "    def __init__(self,input_term,input_db,email_id):\n",
    "        self.input_term = input_term\n",
    "        self.input_db = input_db\n",
    "        self.email_id = email_id\n",
    "\n",
    "    #Find # of records within search parameters\n",
    "    def pub_count(self):\n",
    "        Entrez.email = self.email_id\n",
    "        counthandle = Entrez.egquery(term = self.input_term)\n",
    "        record = Entrez.read(counthandle)\n",
    "        for row in record[\"eGQueryResult\"]:\n",
    "            if row['DbName'] == self.input_db:\n",
    "                record_count = row['Count']\n",
    "        counthandle.close()\n",
    "        return record_count"
   ]
  },
  {
   "cell_type": "code",
   "execution_count": null,
   "metadata": {},
   "outputs": [],
   "source": [
    "#these helper functions need the state variables from ncbisearch\n",
    "def search_properties(self_variables_from_ncbi_search):\n",
    "    prop_dict = dict(self_variables_from_ncbi_search)\n",
    "    return prop_dict\n",
    "\n",
    "\n",
    "#function to save the unique identifier for the xml as a json\n",
    "def update_id_json(prop_dict):\n",
    "    # prop_dict = search_properties(record_count)\n",
    "    with open(\"unique_identifiers.json\") as f:\n",
    "        data = json.load(f)\n",
    "    data.append(prop_dict)\n",
    "    with open('unique_identifiers.json', 'w') as f:\n",
    "        json.dump(data, f)"
   ]
  },
  {
   "cell_type": "code",
   "execution_count": 59,
   "metadata": {},
   "outputs": [],
   "source": [
    "class ncbi_search:\n",
    "    def __init__(self,input_term,input_db,email_id):\n",
    "        self.input_term = input_term\n",
    "        self.input_db = input_db\n",
    "        self.email_id = email_id\n",
    "        # self.tracker = helper.track_outputs\n",
    "\n",
    "    #Find # of records within search parameters\n",
    "    def pub_count(self):\n",
    "        Entrez.email = self.email_id\n",
    "        counthandle = Entrez.egquery(term = self.input_term)\n",
    "        record = Entrez.read(counthandle)\n",
    "        for row in record[\"eGQueryResult\"]:\n",
    "            if row['DbName'] == self.input_db:\n",
    "                record_count = row['Count']\n",
    "        counthandle.close()\n",
    "        return record_count\n",
    "\n",
    "    def search_properties(self):\n",
    "        record_count = self.pub_count()\n",
    "        prop_dict = {'ct':record_count}\n",
    "        return prop_dict"
   ]
  },
  {
   "cell_type": "code",
   "execution_count": 60,
   "metadata": {},
   "outputs": [],
   "source": [
    "input_term = 'public health'\n",
    "input_db = 'pubmed'\n",
    "email_id = 'srand1@health.nyc.gov'"
   ]
  },
  {
   "cell_type": "code",
   "execution_count": 61,
   "metadata": {},
   "outputs": [],
   "source": [
    "a = ncbi_search(input_term,input_db,email_id)"
   ]
  },
  {
   "cell_type": "code",
   "execution_count": 62,
   "metadata": {},
   "outputs": [
    {
     "data": {
      "text/plain": [
       "{'ct': '7277917'}"
      ]
     },
     "execution_count": 62,
     "metadata": {},
     "output_type": "execute_result"
    }
   ],
   "source": [
    "a.search_properties()"
   ]
  },
  {
   "cell_type": "code",
   "execution_count": null,
   "metadata": {},
   "outputs": [],
   "source": []
  }
 ],
 "metadata": {
  "kernelspec": {
   "display_name": "Python 3",
   "language": "python",
   "name": "python3"
  },
  "language_info": {
   "codemirror_mode": {
    "name": "ipython",
    "version": 3
   },
   "file_extension": ".py",
   "mimetype": "text/x-python",
   "name": "python",
   "nbconvert_exporter": "python",
   "pygments_lexer": "ipython3",
   "version": "3.6.3"
  }
 },
 "nbformat": 4,
 "nbformat_minor": 2
}
